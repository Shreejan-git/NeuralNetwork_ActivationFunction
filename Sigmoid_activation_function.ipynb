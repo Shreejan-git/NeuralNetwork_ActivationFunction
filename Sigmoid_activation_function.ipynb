{
 "cells": [
  {
   "cell_type": "markdown",
   "id": "b904c91c",
   "metadata": {},
   "source": [
    "<b> Sigmoid in a Machine Learning Algorithm</b> <br>\n",
    "    The sigmoid function is used in a popular machine learning classification algorithm, Logistic regression algorithm for binary classification (0 or 1). The output of the sigmoid function range between 0 - 1. This is a non-linear function. Hence, if we graph the Sigmoid function, it forms a non-convex curve. Due to this reason, logistic regression has its own loss function. i.e. binary cross-entropy [-y*log(yhat)-(1-y)log(1-yhat)]<br> <br> <b> Sigmoid as an activation function </b> <br>In Neural Network, sigmoid function as be used in both the hidden layers as well as in an output layer(if we are building binary classification based model).<br> BUT using sigmoid as an activation function that has multiple layers has its own shortcomings, i.e. <strong>vanishing gradient descent. </strong> Sigmoid squeezes the input in between 0 - 1 and if we do the derivation of the sigmoid function, it always gives the value of the gradient in between (0 - 0.25) which is a small number. So, while doing a backpropagation to optimize the weight and bias, we must calculate the chain rule. \"Chain rule means multiplying all the value of the gradients from the cost function to the weight which we want to update.\" <br> This is where we encounter a VANISHING GRADIENT PROBLEM. If we multiply multiple numbers which are in between (0-0.25) we will get a smaller number. And when we try to update the weight like this -> New(w) = Old(w) - Learning rate * gradient_value, multiplying small gradient_value with Learning_rate (which is a small number in itself) will return a small number (obvious :D ) <br> <br>So, Old(w) – the small number will not have any significant change in the old(w), the weight update process will slow down and struggles to converge.\n",
    "<br> <br>Below I have implemented the sigmoid function and its derivation and plotted a graph to show the range of both sigmoid function and its derivation.\n",
    "\n"
   ]
  },
  {
   "cell_type": "code",
   "execution_count": 7,
   "id": "9f82fa42",
   "metadata": {},
   "outputs": [],
   "source": [
    "import numpy as np\n",
    "import matplotlib.pyplot as plt"
   ]
  },
  {
   "cell_type": "code",
   "execution_count": 10,
   "id": "121f4dc5",
   "metadata": {},
   "outputs": [],
   "source": [
    "def sigmoid(z):\n",
    "    return 1/(1+np.exp(-z))"
   ]
  },
  {
   "cell_type": "code",
   "execution_count": 11,
   "id": "f32f18d0",
   "metadata": {},
   "outputs": [],
   "source": [
    "z = [x for x in range(-15,16)]"
   ]
  },
  {
   "cell_type": "code",
   "execution_count": 12,
   "id": "4999ed79",
   "metadata": {},
   "outputs": [],
   "source": [
    "sigmoid_output = [sigmoid(y) for y in z]"
   ]
  },
  {
   "cell_type": "code",
   "execution_count": 14,
   "id": "83972cf0",
   "metadata": {},
   "outputs": [
    {
     "data": {
      "text/plain": [
       "[<matplotlib.lines.Line2D at 0x241176a9d60>]"
      ]
     },
     "execution_count": 14,
     "metadata": {},
     "output_type": "execute_result"
    },
    {
     "data": {
      "image/png": "[encoded data removed]",
      "text/plain": [
       "<Figure size 432x288 with 1 Axes>"
      ]
     },
     "metadata": {
      "needs_background": "light"
     },
     "output_type": "display_data"
    }
   ],
   "source": [
    "plt.plot(z,sigmoid_output)"
   ]
  },
  {
   "cell_type": "code",
   "execution_count": 15,
   "id": "5b3a9db4",
   "metadata": {},
   "outputs": [],
   "source": [
    "def derivation_sigmoid(x):\n",
    "    return sigmoid(x)* (1-sigmoid(x))"
   ]
  },
  {
   "cell_type": "code",
   "execution_count": 17,
   "id": "7583f67f",
   "metadata": {
    "scrolled": true
   },
   "outputs": [
    {
     "data": {
      "text/plain": [
       "[<matplotlib.lines.Line2D at 0x2411777f5b0>]"
      ]
     },
     "execution_count": 17,
     "metadata": {},
     "output_type": "execute_result"
    },
    {
     "data": {
      "image/png": "[encoded data removed]",
      "text/plain": [
       "<Figure size 432x288 with 1 Axes>"
      ]
     },
     "metadata": {
      "needs_background": "light"
     },
     "output_type": "display_data"
    }
   ],
   "source": [
    "z = [x for x in range(-15,16)]\n",
    "dsigmoid_output = [derivation_sigmoid(y) for y in z]\n",
    "plt.plot(z,dsigmoid_output)"
   ]
  },
  {
   "cell_type": "code",
   "execution_count": null,
   "id": "2295e236",
   "metadata": {},
   "outputs": [],
   "source": []
  }
 ],
 "metadata": {
  "kernelspec": {
   "display_name": "Python 3 (ipykernel)",
   "language": "python",
   "name": "python3"
  },
  "language_info": {
   "codemirror_mode": {
    "name": "ipython",
    "version": 3
   },
   "file_extension": ".py",
   "mimetype": "text/x-python",
   "name": "python",
   "nbconvert_exporter": "python",
   "pygments_lexer": "ipython3",
   "version": "3.9.7"
  }
 },
 "nbformat": 4,
 "nbformat_minor": 5
}
