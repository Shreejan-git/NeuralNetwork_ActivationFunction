{
 "cells": [
  {
   "cell_type": "code",
   "execution_count": 1,
   "id": "4cc50066",
   "metadata": {},
   "outputs": [],
   "source": [
    "import numpy as np"
   ]
  },
  {
   "cell_type": "code",
   "execution_count": 29,
   "id": "28b92ef2",
   "metadata": {},
   "outputs": [],
   "source": [
    "actual_data = np.array([10,15,20,12,51])\n",
    "predicted_data = np.array([12,15,30,19,61])"
   ]
  },
  {
   "cell_type": "code",
   "execution_count": 30,
   "id": "c1bd21a9",
   "metadata": {},
   "outputs": [
    {
     "data": {
      "text/plain": [
       "5.8"
      ]
     },
     "execution_count": 30,
     "metadata": {},
     "output_type": "execute_result"
    }
   ],
   "source": [
    "#mean absolute error\n",
    "def mae(actual,pred):\n",
    "    \n",
    "    residual = 0\n",
    "    \n",
    "    for a,p in zip(actual,pred):\n",
    "        residual += np.abs(a-p)\n",
    "    mean_ = residual/len(actual)\n",
    "    \n",
    "    return mean_\n",
    "\n",
    "mae(actual_data, predicted_data)"
   ]
  },
  {
   "cell_type": "code",
   "execution_count": 31,
   "id": "64be36ee",
   "metadata": {},
   "outputs": [
    {
     "data": {
      "text/plain": [
       "5.8"
      ]
     },
     "execution_count": 31,
     "metadata": {},
     "output_type": "execute_result"
    }
   ],
   "source": [
    "#vectorization\n",
    "def mae(actual,pred):\n",
    "    return np.mean(np.abs(actual-pred))\n",
    "\n",
    "mae(actual_data, predicted_data)"
   ]
  },
  {
   "cell_type": "code",
   "execution_count": 32,
   "id": "9c92141c",
   "metadata": {},
   "outputs": [
    {
     "data": {
      "text/plain": [
       "50.6"
      ]
     },
     "execution_count": 32,
     "metadata": {},
     "output_type": "execute_result"
    }
   ],
   "source": [
    "#mean squared error\n",
    "\n",
    "def mse(actual,pred):\n",
    "    \n",
    "    residual = 0\n",
    "    for p,a in zip(actual,pred):\n",
    "        residual += np.square(p-a)\n",
    "    mean_ = residual/len(actual)\n",
    "    \n",
    "    return mean_\n",
    "\n",
    "mse(actual_data, predicted_data)"
   ]
  },
  {
   "cell_type": "code",
   "execution_count": 34,
   "id": "9bdf1b08",
   "metadata": {},
   "outputs": [
    {
     "data": {
      "text/plain": [
       "50.6"
      ]
     },
     "execution_count": 34,
     "metadata": {},
     "output_type": "execute_result"
    }
   ],
   "source": [
    "#vectorization\n",
    "\n",
    "def mse(actual,pred):\n",
    "    return np.mean(np.square(actual-pred))\n",
    "\n",
    "mse(actual_data, predicted_data)"
   ]
  },
  {
   "cell_type": "code",
   "execution_count": null,
   "id": "24280fea",
   "metadata": {},
   "outputs": [],
   "source": []
  }
 ],
 "metadata": {
  "kernelspec": {
   "display_name": "Python 3 (ipykernel)",
   "language": "python",
   "name": "python3"
  },
  "language_info": {
   "codemirror_mode": {
    "name": "ipython",
    "version": 3
   },
   "file_extension": ".py",
   "mimetype": "text/x-python",
   "name": "python",
   "nbconvert_exporter": "python",
   "pygments_lexer": "ipython3",
   "version": "3.9.7"
  }
 },
 "nbformat": 4,
 "nbformat_minor": 5
}
